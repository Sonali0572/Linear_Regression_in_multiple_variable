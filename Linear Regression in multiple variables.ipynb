{
 "cells": [
  {
   "cell_type": "markdown",
   "metadata": {},
   "source": [
    "<h2>Implementation of Linear Regression in multiple variables on Boston Housing dataset</h2>"
   ]
  },
  {
   "cell_type": "code",
   "execution_count": 1,
   "metadata": {},
   "outputs": [],
   "source": [
    "import math\n",
    "import pandas as pd\n",
    "import matplotlib.pyplot as plt\n",
    "from sklearn.linear_model import LinearRegression\n",
    "from sklearn import metrics\n",
    "import statsmodels.api as sm"
   ]
  },
  {
   "cell_type": "code",
   "execution_count": 2,
   "metadata": {},
   "outputs": [],
   "source": [
    "pd.set_option('display.max_columns',None)\n",
    "pd.set_option('display.max_columns',None)"
   ]
  },
  {
   "cell_type": "code",
   "execution_count": 3,
   "metadata": {
    "scrolled": true
   },
   "outputs": [
    {
     "name": "stdout",
     "output_type": "stream",
     "text": [
      "           ZN  INDUS  CHAS    NOX     RM   AGE     DIS  RAD    TAX  PTRATIO  \\\n",
      "CRIM                                                                          \n",
      "0.00632  18.0   2.31     0  0.538  6.575  65.2  4.0900    1  296.0     15.3   \n",
      "0.02731   0.0   7.07     0  0.469  6.421  78.9  4.9671    2  242.0     17.8   \n",
      "0.02729   0.0   7.07     0  0.469  7.185  61.1  4.9671    2  242.0     17.8   \n",
      "0.03237   0.0   2.18     0  0.458  6.998  45.8  6.0622    3  222.0     18.7   \n",
      "0.06905   0.0   2.18     0  0.458  7.147  54.2  6.0622    3  222.0     18.7   \n",
      "\n",
      "              B  LSTAT  MEDV  \n",
      "CRIM                          \n",
      "0.00632  396.90   4.98  24.0  \n",
      "0.02731  396.90   9.14  21.6  \n",
      "0.02729  392.83   4.03  34.7  \n",
      "0.03237  394.63   2.94  33.4  \n",
      "0.06905  396.90   5.33  36.2  \n"
     ]
    }
   ],
   "source": [
    "data=pd.read_csv('Linear_Regression_in_multiple_variable\\BostonHousing.csv',index_col=0)\n",
    "print(data.head())"
   ]
  },
  {
   "cell_type": "code",
   "execution_count": 4,
   "metadata": {},
   "outputs": [
    {
     "name": "stdout",
     "output_type": "stream",
     "text": [
      "               ZN     INDUS      CHAS       NOX        RM       AGE       DIS  \\\n",
      "ZN       1.000000 -0.533828 -0.042697 -0.516604  0.311991 -0.569537  0.664408   \n",
      "INDUS   -0.533828  1.000000  0.062938  0.763651 -0.391676  0.644779 -0.708027   \n",
      "CHAS    -0.042697  0.062938  1.000000  0.091203  0.091251  0.086518 -0.099176   \n",
      "NOX     -0.516604  0.763651  0.091203  1.000000 -0.302188  0.731470 -0.769230   \n",
      "RM       0.311991 -0.391676  0.091251 -0.302188  1.000000 -0.240265  0.205246   \n",
      "AGE     -0.569537  0.644779  0.086518  0.731470 -0.240265  1.000000 -0.747881   \n",
      "DIS      0.664408 -0.708027 -0.099176 -0.769230  0.205246 -0.747881  1.000000   \n",
      "RAD     -0.311948  0.595129 -0.007368  0.611441 -0.209847  0.456022 -0.494588   \n",
      "TAX     -0.314563  0.720760 -0.035587  0.668023 -0.292048  0.506456 -0.534432   \n",
      "PTRATIO -0.391679  0.383248 -0.121515  0.188933 -0.355501  0.261515 -0.232471   \n",
      "B        0.175520 -0.356977  0.048788 -0.380051  0.128069 -0.273534  0.291512   \n",
      "LSTAT   -0.412995  0.603800 -0.053929  0.590879 -0.613808  0.602339 -0.496996   \n",
      "MEDV     0.360445 -0.483725  0.175260 -0.427321  0.695360 -0.376955  0.249929   \n",
      "\n",
      "              RAD       TAX   PTRATIO         B     LSTAT      MEDV  \n",
      "ZN      -0.311948 -0.314563 -0.391679  0.175520 -0.412995  0.360445  \n",
      "INDUS    0.595129  0.720760  0.383248 -0.356977  0.603800 -0.483725  \n",
      "CHAS    -0.007368 -0.035587 -0.121515  0.048788 -0.053929  0.175260  \n",
      "NOX      0.611441  0.668023  0.188933 -0.380051  0.590879 -0.427321  \n",
      "RM      -0.209847 -0.292048 -0.355501  0.128069 -0.613808  0.695360  \n",
      "AGE      0.456022  0.506456  0.261515 -0.273534  0.602339 -0.376955  \n",
      "DIS     -0.494588 -0.534432 -0.232471  0.291512 -0.496996  0.249929  \n",
      "RAD      1.000000  0.910228  0.464741 -0.444413  0.488676 -0.381626  \n",
      "TAX      0.910228  1.000000  0.460853 -0.441808  0.543993 -0.468536  \n",
      "PTRATIO  0.464741  0.460853  1.000000 -0.177383  0.374044 -0.507787  \n",
      "B       -0.444413 -0.441808 -0.177383  1.000000 -0.366087  0.333461  \n",
      "LSTAT    0.488676  0.543993  0.374044 -0.366087  1.000000 -0.737663  \n",
      "MEDV    -0.381626 -0.468536 -0.507787  0.333461 -0.737663  1.000000  \n"
     ]
    }
   ],
   "source": [
    "print(data.corr(method='pearson'))"
   ]
  },
  {
   "cell_type": "code",
   "execution_count": 5,
   "metadata": {},
   "outputs": [],
   "source": [
    "independent_variable=data.drop('MEDV',axis=1)"
   ]
  },
  {
   "cell_type": "code",
   "execution_count": 6,
   "metadata": {},
   "outputs": [],
   "source": [
    "x=independent_variable.values\n",
    "y=data['MEDV'].values"
   ]
  },
  {
   "cell_type": "code",
   "execution_count": 7,
   "metadata": {},
   "outputs": [],
   "source": [
    "lr = LinearRegression(fit_intercept = True)\n",
    "lr.fit(x, y) \n",
    "y_pred = lr.predict(x)"
   ]
  },
  {
   "cell_type": "code",
   "execution_count": 8,
   "metadata": {},
   "outputs": [
    {
     "name": "stdout",
     "output_type": "stream",
     "text": [
      "Coefficients =  [ 4.24883214e-02  2.80584246e-02  2.82840874e+00 -1.70182183e+01\n",
      "  3.84602671e+00  5.47185316e-04 -1.39899389e+00  2.47840386e-01\n",
      " -1.21881352e-02 -9.43740929e-01  1.03481181e-02 -5.50210277e-01]\n",
      "Intercept =  35.37973508129659\n",
      "R^2 =  0.7349488253339125\n",
      "Root MSE =  4.730275100243263\n"
     ]
    }
   ],
   "source": [
    "print('Coefficients = ', lr.coef_)\n",
    "print('Intercept = ', lr.intercept_)\n",
    "print('R^2 = ', lr.score(x, y)) \n",
    "print('Root MSE = ', math.sqrt(metrics.mean_squared_error(y, y_pred))) "
   ]
  },
  {
   "cell_type": "code",
   "execution_count": 9,
   "metadata": {},
   "outputs": [],
   "source": [
    "x=independent_variable\n",
    "y=data['MEDV']"
   ]
  },
  {
   "cell_type": "code",
   "execution_count": 10,
   "metadata": {},
   "outputs": [
    {
     "name": "stdout",
     "output_type": "stream",
     "text": [
      "                            OLS Regression Results                            \n",
      "==============================================================================\n",
      "Dep. Variable:                   MEDV   R-squared:                       0.735\n",
      "Model:                            OLS   Adj. R-squared:                  0.728\n",
      "Method:                 Least Squares   F-statistic:                     113.9\n",
      "Date:                Tue, 17 Dec 2019   Prob (F-statistic):          1.23e-133\n",
      "Time:                        20:52:22   Log-Likelihood:                -1504.3\n",
      "No. Observations:                 506   AIC:                             3035.\n",
      "Df Residuals:                     493   BIC:                             3090.\n",
      "Df Model:                          12                                         \n",
      "Covariance Type:            nonrobust                                         \n",
      "==============================================================================\n",
      "                 coef    std err          t      P>|t|      [0.025      0.975]\n",
      "------------------------------------------------------------------------------\n",
      "const         35.3797      5.143      6.879      0.000      25.274      45.485\n",
      "ZN             0.0425      0.014      3.077      0.002       0.015       0.070\n",
      "INDUS          0.0281      0.062      0.452      0.651      -0.094       0.150\n",
      "CHAS           2.8284      0.869      3.255      0.001       1.121       4.536\n",
      "NOX          -17.0182      3.851     -4.420      0.000     -24.584      -9.452\n",
      "RM             3.8460      0.422      9.116      0.000       3.017       4.675\n",
      "AGE            0.0005      0.013      0.041      0.967      -0.026       0.027\n",
      "DIS           -1.3990      0.200     -6.993      0.000      -1.792      -1.006\n",
      "RAD            0.2478      0.065      3.838      0.000       0.121       0.375\n",
      "TAX           -0.0122      0.004     -3.210      0.001      -0.020      -0.005\n",
      "PTRATIO       -0.9437      0.132     -7.145      0.000      -1.203      -0.684\n",
      "B              0.0103      0.003      3.841      0.000       0.005       0.016\n",
      "LSTAT         -0.5502      0.051    -10.870      0.000      -0.650      -0.451\n",
      "==============================================================================\n",
      "Omnibus:                      171.086   Durbin-Watson:                   1.070\n",
      "Prob(Omnibus):                  0.000   Jarque-Bera (JB):              761.307\n",
      "Skew:                           1.449   Prob(JB):                    4.83e-166\n",
      "Kurtosis:                       8.264   Cond. No.                     1.51e+04\n",
      "==============================================================================\n",
      "\n",
      "Warnings:\n",
      "[1] Standard Errors assume that the covariance matrix of the errors is correctly specified.\n",
      "[2] The condition number is large, 1.51e+04. This might indicate that there are\n",
      "strong multicollinearity or other numerical problems.\n"
     ]
    }
   ],
   "source": [
    "x2 = sm.add_constant(x)\n",
    "ols = sm.OLS(y, x2)\n",
    "est = ols.fit()\n",
    "print(est.summary())"
   ]
  },
  {
   "cell_type": "code",
   "execution_count": null,
   "metadata": {},
   "outputs": [],
   "source": []
  }
 ],
 "metadata": {
  "kernelspec": {
   "display_name": "Python 3",
   "language": "python",
   "name": "python3"
  },
  "language_info": {
   "codemirror_mode": {
    "name": "ipython",
    "version": 3
   },
   "file_extension": ".py",
   "mimetype": "text/x-python",
   "name": "python",
   "nbconvert_exporter": "python",
   "pygments_lexer": "ipython3",
   "version": "3.8.5"
  }
 },
 "nbformat": 4,
 "nbformat_minor": 2
}
